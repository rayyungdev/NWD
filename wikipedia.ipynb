{
 "cells": [
  {
   "cell_type": "code",
   "execution_count": 1,
   "metadata": {},
   "outputs": [],
   "source": [
    "from bs4 import BeautifulSoup\n",
    "from urllib.request import urlopen\n",
    "from math import log2"
   ]
  },
  {
   "cell_type": "code",
   "execution_count": 2,
   "metadata": {},
   "outputs": [],
   "source": [
    "def wikipediasearch(terms = 'blue'):\n",
    "    #Search two terms simulataneously or search one up. Will help with NWD function\n",
    "    #See NWD (should I add +1 to total results since indexes start at 0)\n",
    "    if isinstance(terms, list) and len(terms) > 1:\n",
    "        word = terms[0]\n",
    "        for term in terms:\n",
    "            word += \"+\" + term\n",
    "    else:\n",
    "        word = terms\n",
    "    \n",
    "    #Webscrape Parsing\n",
    "    url = 'https://en.wikipedia.org/w/index.php?title=Special%3ASearch&profile=default&search=' + word + '+&fulltext=Search'\n",
    "    url = urlopen(url)\n",
    "    soup = BeautifulSoup(url, 'html.parser')\n",
    "    results = soup.find_all(attrs = {\"class\": \"results-info\"})\n",
    "    results = str(results[0]) #Convert to string, so we can parse through the html manually and pull out the final result. \n",
    "    results = results.split(\">Results\")[0]\n",
    "    results = results.split(\"data-mw-num-results-total=\")[1] #Isolates the total results integer\n",
    "    results = results.strip('\"\"') #Remove quotes from the string integer\n",
    "    \n",
    "    return int(results) + 1 #Convert the string to an int and add one since indexes start at 0"
   ]
  },
  {
   "cell_type": "code",
   "execution_count": 3,
   "metadata": {},
   "outputs": [],
   "source": [
    "def getN(serverType = 'wikipedia'):\n",
    "    #I suspect the purpose of this function is to establish a baseline based off previous search results.\n",
    "    # maxN will be used to create a list of objects that should achieve an NWD of 1\n",
    "    \n",
    "    #Below will be updated later as a switch statement to choose between which search methods\n",
    "    if serverType is 'wikipedia':\n",
    "        search = wikipediasearch\n",
    "        \n",
    "    maxN = [['einstein', 'fudge'], ['apple','xyzzy'], ['imbecile', 'newton']]\n",
    "    cn = []\n",
    "    for terms in maxN:\n",
    "        fX = search(terms)\n",
    "        fw = [search(term) for term in terms]\n",
    "        cn.append(2**((log2(max(fw)) - log2(fX)) + log2(min(fw))))\n",
    "    return 1E6*max(cn)"
   ]
  },
  {
   "cell_type": "code",
   "execution_count": 4,
   "metadata": {},
   "outputs": [],
   "source": [
    "def NWD(terms = ['blue', 'green'], serverType = 'wikipedia'):\n",
    "    \n",
    "    #Questions for the future: matlab indexing starts as 1, should Python reflect that because we want the total integer value?\n",
    "    if not isinstance(terms, list):\n",
    "        raise TypeError('input terms requires list')\n",
    "    servers = ['wikipedia']\n",
    "    \n",
    "    #Check is serverType is found in list. Currently only supports Wikipedia Search\n",
    "    if serverType not in servers:\n",
    "        raise TypeError('input servertype is invalid. Please choose valid serverType')\n",
    "    \n",
    "    #Will be updated lik getN\n",
    "    if serverType is 'wikipedia':\n",
    "        search = wikipediasearch\n",
    "        \n",
    "    N = getN(serverType)\n",
    "    \n",
    "    fX =search(terms) #Searching up all terms\n",
    "    fw = [search(i) for i in terms] #Search up terms invidually\n",
    "    nwd = (log2(max(fw)) - log2(fX)) / (log2(N) - log2(min(fw)))\n",
    "    \n",
    "    return nwd"
   ]
  },
  {
   "cell_type": "code",
   "execution_count": 6,
   "metadata": {},
   "outputs": [
    {
     "name": "stdout",
     "output_type": "stream",
     "text": [
      "0.19049957537113038\n"
     ]
    }
   ],
   "source": [
    "if __name__ == \"__main__\":\n",
    "    terms = ['blue', 'green', 'orange']\n",
    "    print(NWD(terms))"
   ]
  },
  {
   "cell_type": "code",
   "execution_count": null,
   "metadata": {},
   "outputs": [],
   "source": []
  }
 ],
 "metadata": {
  "kernelspec": {
   "display_name": "Python 3",
   "language": "python",
   "name": "python3"
  },
  "language_info": {
   "codemirror_mode": {
    "name": "ipython",
    "version": 3
   },
   "file_extension": ".py",
   "mimetype": "text/x-python",
   "name": "python",
   "nbconvert_exporter": "python",
   "pygments_lexer": "ipython3",
   "version": "3.7.6"
  }
 },
 "nbformat": 4,
 "nbformat_minor": 4
}
